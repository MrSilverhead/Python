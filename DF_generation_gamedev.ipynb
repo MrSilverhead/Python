{
 "cells": [
  {
   "cell_type": "markdown",
   "id": "98814cdc",
   "metadata": {},
   "source": [
    "### В рамках выполнения тестового задания для gamedev компании в данном файле генерируется набор данных для дальнейшего анализа"
   ]
  },
  {
   "cell_type": "code",
   "execution_count": 1,
   "id": "e3d49116",
   "metadata": {},
   "outputs": [],
   "source": [
    "import pandas as pd\n",
    "import numpy as np\n",
    "import uuid\n",
    "from tqdm import tqdm"
   ]
  },
  {
   "cell_type": "markdown",
   "id": "56fbab1e",
   "metadata": {},
   "source": [
    "Библиотека **uuid** предоставляет функционал для генерации и управления уникальными идентификаторами (UUID - Universally Unique Identifier). UUID - это 128-битное значение, которое представляет собой уникальный идентификатор, который может быть использован для идентификации объектов в различных системах без риска конфликта идентификаторов.\n",
    "\n",
    "Модуль **tqdm** нужен для создания красивых прогресс-баров в циклах или операциях, которые занимают продолжительное время. Название tqdm означает \"taqaddum\" на арабском, что переводится как \"прогресс\" или \"продвижение\".Основная цель tqdm - упростить процесс отслеживания прогресса выполнения задачи и обеспечить визуальное представление о том, сколько времени осталось до завершения."
   ]
  },
  {
   "cell_type": "markdown",
   "id": "f9b4b4ad",
   "metadata": {},
   "source": [
    "Датафрейм представляет из себя данные о монетизационной акции, которая была проведена на игровом проекте компании. Она длилась 3 дня. В рамках акции игрокам предлагалось купить игровые ресурсы по более выгодным, чем обычно, ценам. Данные содержат информацию об активности пользователей, заходивших в приложение за неделю до акции, во время акции, а также за неделю после окончания акции. Группирующие колонки: Date, Platform, User_id, Reg_date. Расчетные колонки: Revenue (сколько денег потратил юзер), Payments (сколько платежей сделал юзер), Sessions (колиечтво сессий), Playing_time (время в игре)."
   ]
  },
  {
   "cell_type": "code",
   "execution_count": 2,
   "id": "d6ce4ad0",
   "metadata": {},
   "outputs": [],
   "source": [
    "# Создаем константы\n",
    "PLATFORMS = ['Windows', 'MacOS', 'Linux', 'iOS']\n",
    "DAYS = 14\n",
    "USERS_CNT = 1000"
   ]
  },
  {
   "cell_type": "code",
   "execution_count": 3,
   "id": "e62110fb",
   "metadata": {},
   "outputs": [],
   "source": [
    "# Генерируем юзеров с уникальными id\n",
    "users = [str(uuid.uuid4()) for _ in range(USERS_CNT)]"
   ]
  },
  {
   "cell_type": "code",
   "execution_count": 4,
   "id": "e53f4933",
   "metadata": {},
   "outputs": [],
   "source": [
    "# Генерируем возможные даты регистрации\n",
    "dates_reg = pd.date_range(start='2022-03-01', periods=365, freq='D')"
   ]
  },
  {
   "cell_type": "code",
   "execution_count": 5,
   "id": "4e99ca41",
   "metadata": {},
   "outputs": [],
   "source": [
    "# Генерируем возможные даты активности пользователей (7 + 3 + 7)\n",
    "activity_days = pd.date_range(start='2023-03-01', periods=17, freq='D')"
   ]
  },
  {
   "cell_type": "code",
   "execution_count": 6,
   "id": "33a9d085",
   "metadata": {},
   "outputs": [],
   "source": [
    "#Формируем заготовки\n",
    "baseline_data = {\n",
    "    'user_id': [],\n",
    "    'platform': [],\n",
    "    'reg_date': []\n",
    "}\n",
    "\n",
    "report = pd.DataFrame({\n",
    "    'date': [],\n",
    "    'user_id': [],\n",
    "    'revenue': [],\n",
    "    'payments': [],\n",
    "    'sessions': [],\n",
    "    'playing_time': []\n",
    "})"
   ]
  },
  {
   "cell_type": "code",
   "execution_count": 7,
   "id": "2d93019c",
   "metadata": {},
   "outputs": [
    {
     "name": "stderr",
     "output_type": "stream",
     "text": [
      "100%|██████████| 1000/1000 [00:00<00:00, 1462.15it/s]\n"
     ]
    }
   ],
   "source": [
    "# Генерируем датафрейм (со встроенным статус-баром)\n",
    "for user in tqdm(users):\n",
    "    # дата регистрации и платформа\n",
    "    reg_date = np.random.choice(dates_reg)\n",
    "    platform = np.random.choice(PLATFORMS)\n",
    "    \n",
    "    baseline_data['user_id'].append(user)\n",
    "    baseline_data['platform'].append(platform)\n",
    "    baseline_data['reg_date'].append(reg_date)\n",
    "    \n",
    "    # количество дней активности и даты активности\n",
    "    activity_days_cnt = np.random.randint(1, DAYS)\n",
    "    activity_dates = np.random.choice(activity_days, activity_days_cnt, replace=False)\n",
    "    \n",
    "    # Оплаты\n",
    "    revenue = np.random.randint(0, 10000, activity_days_cnt)\n",
    "    \n",
    "    #формируем массив данных для одного юзера\n",
    "    tmp = pd.DataFrame({\n",
    "    'date': activity_dates,\n",
    "    'user_id': [user] * activity_days_cnt,\n",
    "    'revenue': revenue,\n",
    "    'payments': [np.random.randint(1, 5) if x != 0 else 0 for x in revenue],\n",
    "    'sessions': np.random.randint(1, 7, activity_days_cnt),\n",
    "    'playing_time': np.random.randint(1, 3600, activity_days_cnt)\n",
    "})\n",
    "    \n",
    "    report = pd.concat([report, tmp])"
   ]
  },
  {
   "cell_type": "code",
   "execution_count": 8,
   "id": "1ed31d57",
   "metadata": {},
   "outputs": [],
   "source": [
    "df = report.merge(pd.DataFrame(baseline_data), on = 'user_id')"
   ]
  },
  {
   "cell_type": "code",
   "execution_count": 9,
   "id": "9e284a86",
   "metadata": {},
   "outputs": [],
   "source": [
    "df = df.sort_values(by='date')"
   ]
  },
  {
   "cell_type": "code",
   "execution_count": 10,
   "id": "033dd629",
   "metadata": {},
   "outputs": [
    {
     "data": {
      "text/html": [
       "<div>\n",
       "<style scoped>\n",
       "    .dataframe tbody tr th:only-of-type {\n",
       "        vertical-align: middle;\n",
       "    }\n",
       "\n",
       "    .dataframe tbody tr th {\n",
       "        vertical-align: top;\n",
       "    }\n",
       "\n",
       "    .dataframe thead th {\n",
       "        text-align: right;\n",
       "    }\n",
       "</style>\n",
       "<table border=\"1\" class=\"dataframe\">\n",
       "  <thead>\n",
       "    <tr style=\"text-align: right;\">\n",
       "      <th></th>\n",
       "      <th>date</th>\n",
       "      <th>user_id</th>\n",
       "      <th>revenue</th>\n",
       "      <th>payments</th>\n",
       "      <th>sessions</th>\n",
       "      <th>playing_time</th>\n",
       "      <th>platform</th>\n",
       "      <th>reg_date</th>\n",
       "    </tr>\n",
       "  </thead>\n",
       "  <tbody>\n",
       "    <tr>\n",
       "      <th>1627</th>\n",
       "      <td>2023-03-01</td>\n",
       "      <td>266d3738-138d-4f79-94f1-1ebb1a4474df</td>\n",
       "      <td>9586.0</td>\n",
       "      <td>3.0</td>\n",
       "      <td>5.0</td>\n",
       "      <td>1471.0</td>\n",
       "      <td>Linux</td>\n",
       "      <td>2022-10-17</td>\n",
       "    </tr>\n",
       "    <tr>\n",
       "      <th>2327</th>\n",
       "      <td>2023-03-01</td>\n",
       "      <td>2f04001c-36af-4d79-acca-ec2dc64f5c94</td>\n",
       "      <td>4758.0</td>\n",
       "      <td>4.0</td>\n",
       "      <td>6.0</td>\n",
       "      <td>1021.0</td>\n",
       "      <td>MacOS</td>\n",
       "      <td>2023-02-22</td>\n",
       "    </tr>\n",
       "    <tr>\n",
       "      <th>374</th>\n",
       "      <td>2023-03-01</td>\n",
       "      <td>65eb3e27-9b96-4b4d-b605-5c1127241a1e</td>\n",
       "      <td>263.0</td>\n",
       "      <td>4.0</td>\n",
       "      <td>4.0</td>\n",
       "      <td>3522.0</td>\n",
       "      <td>Windows</td>\n",
       "      <td>2022-03-11</td>\n",
       "    </tr>\n",
       "    <tr>\n",
       "      <th>3447</th>\n",
       "      <td>2023-03-01</td>\n",
       "      <td>24770eb3-52c9-4506-8bd6-39eb4ad3aec8</td>\n",
       "      <td>9057.0</td>\n",
       "      <td>1.0</td>\n",
       "      <td>6.0</td>\n",
       "      <td>2596.0</td>\n",
       "      <td>Windows</td>\n",
       "      <td>2022-09-18</td>\n",
       "    </tr>\n",
       "    <tr>\n",
       "      <th>2649</th>\n",
       "      <td>2023-03-01</td>\n",
       "      <td>152990d2-85c4-4359-8045-61857262aa78</td>\n",
       "      <td>1348.0</td>\n",
       "      <td>3.0</td>\n",
       "      <td>3.0</td>\n",
       "      <td>1152.0</td>\n",
       "      <td>MacOS</td>\n",
       "      <td>2022-08-18</td>\n",
       "    </tr>\n",
       "    <tr>\n",
       "      <th>...</th>\n",
       "      <td>...</td>\n",
       "      <td>...</td>\n",
       "      <td>...</td>\n",
       "      <td>...</td>\n",
       "      <td>...</td>\n",
       "      <td>...</td>\n",
       "      <td>...</td>\n",
       "      <td>...</td>\n",
       "    </tr>\n",
       "    <tr>\n",
       "      <th>690</th>\n",
       "      <td>2023-03-17</td>\n",
       "      <td>175a691a-02b9-48f0-b8be-18ce7fa9d01b</td>\n",
       "      <td>3386.0</td>\n",
       "      <td>1.0</td>\n",
       "      <td>3.0</td>\n",
       "      <td>829.0</td>\n",
       "      <td>Linux</td>\n",
       "      <td>2023-01-29</td>\n",
       "    </tr>\n",
       "    <tr>\n",
       "      <th>1966</th>\n",
       "      <td>2023-03-17</td>\n",
       "      <td>37644a72-afe6-4482-8ca2-6d6b73ffcbae</td>\n",
       "      <td>2275.0</td>\n",
       "      <td>1.0</td>\n",
       "      <td>4.0</td>\n",
       "      <td>1677.0</td>\n",
       "      <td>iOS</td>\n",
       "      <td>2022-03-31</td>\n",
       "    </tr>\n",
       "    <tr>\n",
       "      <th>5810</th>\n",
       "      <td>2023-03-17</td>\n",
       "      <td>98e85306-442d-43cd-bef8-696f8134deda</td>\n",
       "      <td>1819.0</td>\n",
       "      <td>3.0</td>\n",
       "      <td>2.0</td>\n",
       "      <td>864.0</td>\n",
       "      <td>Linux</td>\n",
       "      <td>2022-03-04</td>\n",
       "    </tr>\n",
       "    <tr>\n",
       "      <th>2473</th>\n",
       "      <td>2023-03-17</td>\n",
       "      <td>83653f30-1815-4302-baed-dd1abeeef695</td>\n",
       "      <td>7887.0</td>\n",
       "      <td>1.0</td>\n",
       "      <td>3.0</td>\n",
       "      <td>1083.0</td>\n",
       "      <td>iOS</td>\n",
       "      <td>2022-07-29</td>\n",
       "    </tr>\n",
       "    <tr>\n",
       "      <th>3655</th>\n",
       "      <td>2023-03-17</td>\n",
       "      <td>555e610b-ec77-49a6-aa10-f56df6871334</td>\n",
       "      <td>3482.0</td>\n",
       "      <td>2.0</td>\n",
       "      <td>6.0</td>\n",
       "      <td>695.0</td>\n",
       "      <td>iOS</td>\n",
       "      <td>2022-05-02</td>\n",
       "    </tr>\n",
       "  </tbody>\n",
       "</table>\n",
       "<p>7021 rows × 8 columns</p>\n",
       "</div>"
      ],
      "text/plain": [
       "           date                               user_id  revenue  payments  \\\n",
       "1627 2023-03-01  266d3738-138d-4f79-94f1-1ebb1a4474df   9586.0       3.0   \n",
       "2327 2023-03-01  2f04001c-36af-4d79-acca-ec2dc64f5c94   4758.0       4.0   \n",
       "374  2023-03-01  65eb3e27-9b96-4b4d-b605-5c1127241a1e    263.0       4.0   \n",
       "3447 2023-03-01  24770eb3-52c9-4506-8bd6-39eb4ad3aec8   9057.0       1.0   \n",
       "2649 2023-03-01  152990d2-85c4-4359-8045-61857262aa78   1348.0       3.0   \n",
       "...         ...                                   ...      ...       ...   \n",
       "690  2023-03-17  175a691a-02b9-48f0-b8be-18ce7fa9d01b   3386.0       1.0   \n",
       "1966 2023-03-17  37644a72-afe6-4482-8ca2-6d6b73ffcbae   2275.0       1.0   \n",
       "5810 2023-03-17  98e85306-442d-43cd-bef8-696f8134deda   1819.0       3.0   \n",
       "2473 2023-03-17  83653f30-1815-4302-baed-dd1abeeef695   7887.0       1.0   \n",
       "3655 2023-03-17  555e610b-ec77-49a6-aa10-f56df6871334   3482.0       2.0   \n",
       "\n",
       "      sessions  playing_time platform   reg_date  \n",
       "1627       5.0        1471.0    Linux 2022-10-17  \n",
       "2327       6.0        1021.0    MacOS 2023-02-22  \n",
       "374        4.0        3522.0  Windows 2022-03-11  \n",
       "3447       6.0        2596.0  Windows 2022-09-18  \n",
       "2649       3.0        1152.0    MacOS 2022-08-18  \n",
       "...        ...           ...      ...        ...  \n",
       "690        3.0         829.0    Linux 2023-01-29  \n",
       "1966       4.0        1677.0      iOS 2022-03-31  \n",
       "5810       2.0         864.0    Linux 2022-03-04  \n",
       "2473       3.0        1083.0      iOS 2022-07-29  \n",
       "3655       6.0         695.0      iOS 2022-05-02  \n",
       "\n",
       "[7021 rows x 8 columns]"
      ]
     },
     "execution_count": 10,
     "metadata": {},
     "output_type": "execute_result"
    }
   ],
   "source": [
    "# Датафрейм готов к анализу\n",
    "df"
   ]
  },
  {
   "cell_type": "code",
   "execution_count": null,
   "id": "b9246cf2",
   "metadata": {},
   "outputs": [],
   "source": []
  }
 ],
 "metadata": {
  "kernelspec": {
   "display_name": "Python 3 (ipykernel)",
   "language": "python",
   "name": "python3"
  },
  "language_info": {
   "codemirror_mode": {
    "name": "ipython",
    "version": 3
   },
   "file_extension": ".py",
   "mimetype": "text/x-python",
   "name": "python",
   "nbconvert_exporter": "python",
   "pygments_lexer": "ipython3",
   "version": "3.11.4"
  }
 },
 "nbformat": 4,
 "nbformat_minor": 5
}
