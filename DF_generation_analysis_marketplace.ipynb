{
 "cells": [
  {
   "cell_type": "markdown",
   "metadata": {
    "id": "SWI-FAdCAKjs"
   },
   "source": [
    "Для выполнения этого задания требуется сгенерировать `DataFrame` с синтетическими данными. `DataFrame` должен состоять из `10000` строк и `5` колонок:\n",
    "\n",
    "* `user_id` – идентификатор пользователя. Длина `user_id` должна равняться 15-ти символам. Идентификатор состоит из случайной комбинации следующих символов: `\"1234567890abcdefghijk\"`. Для каждой строки в `DataFrame` значение `user_id` формируются случайным образом.\n",
    "\n",
    "* `order_number` – номер заказа. Столбец необходимо заполнить случайными значениями в диапазоне от `1` до `10`.\n",
    "\n",
    "* `click2delivery` – время, прошедшее с момента оформления заказа до вручения клиенту. Столбец необходимо заполнить случайными значениями из нормального распределения со средним `1440` и стандартным отклонением `200`.\n",
    "\n",
    "*  `order_items_sum` – общая стоимость заказа. Значения для этого столбца необходимо взять из экспоненциального распределения с параметром `λ = 1`, смещённого на `+1`.\n",
    "\n",
    "* `retention` – день жизни покупателя, в который он совершил заказ. Необходимо сгенерировать значения `1, 2, 3, 4, 5` с вероятностями `0.35, 0.25, 0.2, 0.15` и `0.05` соответственно.\n",
    "\n",
    "В случае, если в колонке `user_id` встречаются дублирующиеся значения, оставь только первое из них."
   ]
  },
  {
   "cell_type": "code",
   "execution_count": 1,
   "metadata": {
    "colab": {
     "base_uri": "https://localhost:8080/",
     "height": 206
    },
    "id": "f0L3AtZ-0zhN",
    "outputId": "ab2fd456-5eea-4d82-ffb0-d1f1f422ad6e"
   },
   "outputs": [
    {
     "data": {
      "text/html": [
       "<div>\n",
       "<style scoped>\n",
       "    .dataframe tbody tr th:only-of-type {\n",
       "        vertical-align: middle;\n",
       "    }\n",
       "\n",
       "    .dataframe tbody tr th {\n",
       "        vertical-align: top;\n",
       "    }\n",
       "\n",
       "    .dataframe thead th {\n",
       "        text-align: right;\n",
       "    }\n",
       "</style>\n",
       "<table border=\"1\" class=\"dataframe\">\n",
       "  <thead>\n",
       "    <tr style=\"text-align: right;\">\n",
       "      <th></th>\n",
       "      <th>user_id</th>\n",
       "      <th>order_number</th>\n",
       "      <th>click2delivery</th>\n",
       "      <th>order_items_sum</th>\n",
       "      <th>retention</th>\n",
       "    </tr>\n",
       "  </thead>\n",
       "  <tbody>\n",
       "    <tr>\n",
       "      <th>0</th>\n",
       "      <td>k4198854h3id213</td>\n",
       "      <td>7</td>\n",
       "      <td>1198.160258</td>\n",
       "      <td>1.010227</td>\n",
       "      <td>1</td>\n",
       "    </tr>\n",
       "    <tr>\n",
       "      <th>1</th>\n",
       "      <td>78gj1h7khd8ei91</td>\n",
       "      <td>4</td>\n",
       "      <td>1451.348337</td>\n",
       "      <td>2.189504</td>\n",
       "      <td>1</td>\n",
       "    </tr>\n",
       "    <tr>\n",
       "      <th>2</th>\n",
       "      <td>6da957a43c4bbj9</td>\n",
       "      <td>8</td>\n",
       "      <td>1462.691208</td>\n",
       "      <td>1.968382</td>\n",
       "      <td>1</td>\n",
       "    </tr>\n",
       "    <tr>\n",
       "      <th>3</th>\n",
       "      <td>2eh4c3h0kjbi732</td>\n",
       "      <td>5</td>\n",
       "      <td>1477.167526</td>\n",
       "      <td>2.035588</td>\n",
       "      <td>2</td>\n",
       "    </tr>\n",
       "    <tr>\n",
       "      <th>4</th>\n",
       "      <td>80384c9ekb6bb79</td>\n",
       "      <td>7</td>\n",
       "      <td>1623.974303</td>\n",
       "      <td>1.469017</td>\n",
       "      <td>2</td>\n",
       "    </tr>\n",
       "  </tbody>\n",
       "</table>\n",
       "</div>"
      ],
      "text/plain": [
       "           user_id  order_number  click2delivery  order_items_sum  retention\n",
       "0  k4198854h3id213             7     1198.160258         1.010227          1\n",
       "1  78gj1h7khd8ei91             4     1451.348337         2.189504          1\n",
       "2  6da957a43c4bbj9             8     1462.691208         1.968382          1\n",
       "3  2eh4c3h0kjbi732             5     1477.167526         2.035588          2\n",
       "4  80384c9ekb6bb79             7     1623.974303         1.469017          2"
      ]
     },
     "execution_count": 1,
     "metadata": {},
     "output_type": "execute_result"
    }
   ],
   "source": [
    "import pandas as pd\n",
    "import numpy as np\n",
    "import random\n",
    "\n",
    "np.random.seed(42)\n",
    "random.seed(42)\n",
    "\n",
    "def generate_user_id():\n",
    "  characters = \"1234567890abcdefghijk\"\n",
    "  return ''.join(random.choice(characters) for _ in range(15))\n",
    "\n",
    "def generate_df(n):\n",
    "  data = {\n",
    "      'user_id': [generate_user_id() for _ in range(n)],\n",
    "      'order_number': np.random.randint(1, 11, size=n),\n",
    "      'click2delivery': np.random.normal(1440, 200, size=n),\n",
    "      'order_items_sum': np.random.exponential(1, size=n) + 1,\n",
    "      'retention': np.random.choice([1, 2, 3, 4, 5], size=n, p=[0.35, 0.25, 0.2, 0.15, 0.05])\n",
    "  }\n",
    "  df = pd.DataFrame(data)\n",
    "  return df\n",
    "\n",
    "df = pd.DataFrame()\n",
    "n = 10_000\n",
    "\n",
    "while n:\n",
    "  new_df = generate_df(n)\n",
    "  df = pd.concat([df, new_df])\n",
    "  df = df.drop_duplicates(subset='user_id', keep='first')\n",
    "  n = 10_000 - len(df)\n",
    "\n",
    "df.head()"
   ]
  },
  {
   "cell_type": "code",
   "execution_count": 2,
   "metadata": {
    "colab": {
     "base_uri": "https://localhost:8080/"
    },
    "id": "ovVh4lig3Bmo",
    "outputId": "0ccf7bb0-7dbf-4de5-c01b-be93875f84de"
   },
   "outputs": [
    {
     "data": {
      "text/plain": [
       "10000"
      ]
     },
     "execution_count": 2,
     "metadata": {},
     "output_type": "execute_result"
    }
   ],
   "source": [
    "len(df)"
   ]
  },
  {
   "cell_type": "markdown",
   "metadata": {
    "id": "aluOEkKhAxMN"
   },
   "source": [
    "Для всех строк датасета, сгруппированных по номеру заказа, посчитать среднее значение времени доставки по группе. Результат необходимо добавить в новый столбец датафрейма."
   ]
  },
  {
   "cell_type": "code",
   "execution_count": 3,
   "metadata": {
    "id": "ikQQtj0jDeeS"
   },
   "outputs": [],
   "source": [
    "orders = (df.groupby('order_number')['click2delivery'].agg(mean_time='mean').reset_index())"
   ]
  },
  {
   "cell_type": "code",
   "execution_count": 4,
   "metadata": {
    "colab": {
     "base_uri": "https://localhost:8080/",
     "height": 363
    },
    "id": "aYHwGKjv5wD3",
    "outputId": "7367cdf5-bb94-4f85-c88f-9d659aadc373"
   },
   "outputs": [
    {
     "data": {
      "text/html": [
       "<div>\n",
       "<style scoped>\n",
       "    .dataframe tbody tr th:only-of-type {\n",
       "        vertical-align: middle;\n",
       "    }\n",
       "\n",
       "    .dataframe tbody tr th {\n",
       "        vertical-align: top;\n",
       "    }\n",
       "\n",
       "    .dataframe thead th {\n",
       "        text-align: right;\n",
       "    }\n",
       "</style>\n",
       "<table border=\"1\" class=\"dataframe\">\n",
       "  <thead>\n",
       "    <tr style=\"text-align: right;\">\n",
       "      <th></th>\n",
       "      <th>order_number</th>\n",
       "      <th>mean_time</th>\n",
       "    </tr>\n",
       "  </thead>\n",
       "  <tbody>\n",
       "    <tr>\n",
       "      <th>0</th>\n",
       "      <td>1</td>\n",
       "      <td>1443.937094</td>\n",
       "    </tr>\n",
       "    <tr>\n",
       "      <th>1</th>\n",
       "      <td>2</td>\n",
       "      <td>1442.508835</td>\n",
       "    </tr>\n",
       "    <tr>\n",
       "      <th>2</th>\n",
       "      <td>3</td>\n",
       "      <td>1435.860172</td>\n",
       "    </tr>\n",
       "    <tr>\n",
       "      <th>3</th>\n",
       "      <td>4</td>\n",
       "      <td>1444.343693</td>\n",
       "    </tr>\n",
       "    <tr>\n",
       "      <th>4</th>\n",
       "      <td>5</td>\n",
       "      <td>1441.499895</td>\n",
       "    </tr>\n",
       "    <tr>\n",
       "      <th>5</th>\n",
       "      <td>6</td>\n",
       "      <td>1442.861916</td>\n",
       "    </tr>\n",
       "    <tr>\n",
       "      <th>6</th>\n",
       "      <td>7</td>\n",
       "      <td>1439.866081</td>\n",
       "    </tr>\n",
       "    <tr>\n",
       "      <th>7</th>\n",
       "      <td>8</td>\n",
       "      <td>1443.426737</td>\n",
       "    </tr>\n",
       "    <tr>\n",
       "      <th>8</th>\n",
       "      <td>9</td>\n",
       "      <td>1431.180554</td>\n",
       "    </tr>\n",
       "    <tr>\n",
       "      <th>9</th>\n",
       "      <td>10</td>\n",
       "      <td>1444.398974</td>\n",
       "    </tr>\n",
       "  </tbody>\n",
       "</table>\n",
       "</div>"
      ],
      "text/plain": [
       "   order_number    mean_time\n",
       "0             1  1443.937094\n",
       "1             2  1442.508835\n",
       "2             3  1435.860172\n",
       "3             4  1444.343693\n",
       "4             5  1441.499895\n",
       "5             6  1442.861916\n",
       "6             7  1439.866081\n",
       "7             8  1443.426737\n",
       "8             9  1431.180554\n",
       "9            10  1444.398974"
      ]
     },
     "execution_count": 4,
     "metadata": {},
     "output_type": "execute_result"
    }
   ],
   "source": [
    "orders"
   ]
  },
  {
   "cell_type": "code",
   "execution_count": 5,
   "metadata": {
    "id": "oAwMdM4f6JDe"
   },
   "outputs": [],
   "source": [
    "df = df.merge(orders, how='inner', left_on='order_number', right_on='order_number')"
   ]
  },
  {
   "cell_type": "code",
   "execution_count": 6,
   "metadata": {
    "colab": {
     "base_uri": "https://localhost:8080/",
     "height": 206
    },
    "id": "tB2_f1CZ5wK-",
    "outputId": "811c97cd-1d37-4a67-b3f5-b398dec4ec1c"
   },
   "outputs": [
    {
     "data": {
      "text/html": [
       "<div>\n",
       "<style scoped>\n",
       "    .dataframe tbody tr th:only-of-type {\n",
       "        vertical-align: middle;\n",
       "    }\n",
       "\n",
       "    .dataframe tbody tr th {\n",
       "        vertical-align: top;\n",
       "    }\n",
       "\n",
       "    .dataframe thead th {\n",
       "        text-align: right;\n",
       "    }\n",
       "</style>\n",
       "<table border=\"1\" class=\"dataframe\">\n",
       "  <thead>\n",
       "    <tr style=\"text-align: right;\">\n",
       "      <th></th>\n",
       "      <th>user_id</th>\n",
       "      <th>order_number</th>\n",
       "      <th>click2delivery</th>\n",
       "      <th>order_items_sum</th>\n",
       "      <th>retention</th>\n",
       "      <th>mean_time</th>\n",
       "    </tr>\n",
       "  </thead>\n",
       "  <tbody>\n",
       "    <tr>\n",
       "      <th>0</th>\n",
       "      <td>k4198854h3id213</td>\n",
       "      <td>7</td>\n",
       "      <td>1198.160258</td>\n",
       "      <td>1.010227</td>\n",
       "      <td>1</td>\n",
       "      <td>1439.866081</td>\n",
       "    </tr>\n",
       "    <tr>\n",
       "      <th>1</th>\n",
       "      <td>80384c9ekb6bb79</td>\n",
       "      <td>7</td>\n",
       "      <td>1623.974303</td>\n",
       "      <td>1.469017</td>\n",
       "      <td>2</td>\n",
       "      <td>1439.866081</td>\n",
       "    </tr>\n",
       "    <tr>\n",
       "      <th>2</th>\n",
       "      <td>e5958hh9idicb85</td>\n",
       "      <td>7</td>\n",
       "      <td>1316.771308</td>\n",
       "      <td>2.666632</td>\n",
       "      <td>1</td>\n",
       "      <td>1439.866081</td>\n",
       "    </tr>\n",
       "    <tr>\n",
       "      <th>3</th>\n",
       "      <td>hdj5866d16ad896</td>\n",
       "      <td>7</td>\n",
       "      <td>1277.894274</td>\n",
       "      <td>1.457489</td>\n",
       "      <td>5</td>\n",
       "      <td>1439.866081</td>\n",
       "    </tr>\n",
       "    <tr>\n",
       "      <th>4</th>\n",
       "      <td>1007dijkaeee7gf</td>\n",
       "      <td>7</td>\n",
       "      <td>1192.082397</td>\n",
       "      <td>1.650405</td>\n",
       "      <td>5</td>\n",
       "      <td>1439.866081</td>\n",
       "    </tr>\n",
       "  </tbody>\n",
       "</table>\n",
       "</div>"
      ],
      "text/plain": [
       "           user_id  order_number  click2delivery  order_items_sum  retention  \\\n",
       "0  k4198854h3id213             7     1198.160258         1.010227          1   \n",
       "1  80384c9ekb6bb79             7     1623.974303         1.469017          2   \n",
       "2  e5958hh9idicb85             7     1316.771308         2.666632          1   \n",
       "3  hdj5866d16ad896             7     1277.894274         1.457489          5   \n",
       "4  1007dijkaeee7gf             7     1192.082397         1.650405          5   \n",
       "\n",
       "     mean_time  \n",
       "0  1439.866081  \n",
       "1  1439.866081  \n",
       "2  1439.866081  \n",
       "3  1439.866081  \n",
       "4  1439.866081  "
      ]
     },
     "execution_count": 6,
     "metadata": {},
     "output_type": "execute_result"
    }
   ],
   "source": [
    "df.head()"
   ]
  },
  {
   "cell_type": "markdown",
   "metadata": {
    "id": "FeorZxdOGr3i"
   },
   "source": [
    "Отдельной колонкой добавить значения последовательности, начинающейся с `0` и `1`, где каждый следующий элемент является суммой двух предыдущих, умноженных на `0.5`."
   ]
  },
  {
   "cell_type": "code",
   "execution_count": 7,
   "metadata": {
    "id": "4D-kZlxdG1e6"
   },
   "outputs": [],
   "source": [
    "arr = [0, 1]\n",
    "while len(arr) < 10_000:\n",
    "  arr.append(sum(arr[-2:]) * 0.5)"
   ]
  },
  {
   "cell_type": "code",
   "execution_count": 8,
   "metadata": {
    "colab": {
     "base_uri": "https://localhost:8080/"
    },
    "id": "qYIkGK4E7Kbm",
    "outputId": "8f59f443-be95-421f-f171-9ed965a9ddb4"
   },
   "outputs": [
    {
     "data": {
      "text/plain": [
       "10000"
      ]
     },
     "execution_count": 8,
     "metadata": {},
     "output_type": "execute_result"
    }
   ],
   "source": [
    "len(arr)"
   ]
  },
  {
   "cell_type": "code",
   "execution_count": 9,
   "metadata": {
    "id": "H45q-7DS7Kms"
   },
   "outputs": [],
   "source": [
    "df['seq'] = arr"
   ]
  },
  {
   "cell_type": "markdown",
   "metadata": {
    "id": "5vlr4cy9MZcn"
   },
   "source": [
    "Напиши функцию, которая принимает на вход значение `user_id` и возвращает строку следующего вида: все буквы в той последовательности, в которой они встречаются в `user_id`, затем квадрат числа, полученного из всех цифр в `user_id` в той последовательности, в которой они встречаются в `user_id`.\n",
    "Добавь результат применения этой функции к `user_id` в новый столбец. Использование циклов вне функции запрещено."
   ]
  },
  {
   "cell_type": "code",
   "execution_count": 10,
   "metadata": {
    "id": "93LQRrvHMmHY"
   },
   "outputs": [],
   "source": [
    "def process_user_id(user_id):\n",
    "  letters = ''.join(filter(str.isalpha, user_id))\n",
    "  digits = ''.join(filter(str.isdigit, user_id))\n",
    "\n",
    "  return f'{letters}{int(digits) ** 2}'\n",
    "\n",
    "df['transformed_user_id'] = df['user_id'].apply(process_user_id)"
   ]
  },
  {
   "cell_type": "code",
   "execution_count": 11,
   "metadata": {
    "colab": {
     "base_uri": "https://localhost:8080/",
     "height": 226
    },
    "id": "UID8MJwE9sV6",
    "outputId": "9887b741-ba5a-417d-cbee-85f76315cd69"
   },
   "outputs": [
    {
     "data": {
      "text/html": [
       "<div>\n",
       "<style scoped>\n",
       "    .dataframe tbody tr th:only-of-type {\n",
       "        vertical-align: middle;\n",
       "    }\n",
       "\n",
       "    .dataframe tbody tr th {\n",
       "        vertical-align: top;\n",
       "    }\n",
       "\n",
       "    .dataframe thead th {\n",
       "        text-align: right;\n",
       "    }\n",
       "</style>\n",
       "<table border=\"1\" class=\"dataframe\">\n",
       "  <thead>\n",
       "    <tr style=\"text-align: right;\">\n",
       "      <th></th>\n",
       "      <th>user_id</th>\n",
       "      <th>order_number</th>\n",
       "      <th>click2delivery</th>\n",
       "      <th>order_items_sum</th>\n",
       "      <th>retention</th>\n",
       "      <th>mean_time</th>\n",
       "      <th>seq</th>\n",
       "      <th>transformed_user_id</th>\n",
       "    </tr>\n",
       "  </thead>\n",
       "  <tbody>\n",
       "    <tr>\n",
       "      <th>0</th>\n",
       "      <td>k4198854h3id213</td>\n",
       "      <td>7</td>\n",
       "      <td>1198.160258</td>\n",
       "      <td>1.010227</td>\n",
       "      <td>1</td>\n",
       "      <td>1439.866081</td>\n",
       "      <td>0.000</td>\n",
       "      <td>khid1763037761149968363369</td>\n",
       "    </tr>\n",
       "    <tr>\n",
       "      <th>1</th>\n",
       "      <td>80384c9ekb6bb79</td>\n",
       "      <td>7</td>\n",
       "      <td>1623.974303</td>\n",
       "      <td>1.469017</td>\n",
       "      <td>2</td>\n",
       "      <td>1439.866081</td>\n",
       "      <td>1.000</td>\n",
       "      <td>cekbbb646174306428403041</td>\n",
       "    </tr>\n",
       "    <tr>\n",
       "      <th>2</th>\n",
       "      <td>e5958hh9idicb85</td>\n",
       "      <td>7</td>\n",
       "      <td>1316.771308</td>\n",
       "      <td>2.666632</td>\n",
       "      <td>1</td>\n",
       "      <td>1439.866081</td>\n",
       "      <td>0.500</td>\n",
       "      <td>ehhidicb35509502230225</td>\n",
       "    </tr>\n",
       "    <tr>\n",
       "      <th>3</th>\n",
       "      <td>hdj5866d16ad896</td>\n",
       "      <td>7</td>\n",
       "      <td>1277.894274</td>\n",
       "      <td>1.457489</td>\n",
       "      <td>5</td>\n",
       "      <td>1439.866081</td>\n",
       "      <td>0.750</td>\n",
       "      <td>hdjdad344119382672674816</td>\n",
       "    </tr>\n",
       "    <tr>\n",
       "      <th>4</th>\n",
       "      <td>1007dijkaeee7gf</td>\n",
       "      <td>7</td>\n",
       "      <td>1192.082397</td>\n",
       "      <td>1.650405</td>\n",
       "      <td>5</td>\n",
       "      <td>1439.866081</td>\n",
       "      <td>0.625</td>\n",
       "      <td>dijkaeeegf101545929</td>\n",
       "    </tr>\n",
       "  </tbody>\n",
       "</table>\n",
       "</div>"
      ],
      "text/plain": [
       "           user_id  order_number  click2delivery  order_items_sum  retention  \\\n",
       "0  k4198854h3id213             7     1198.160258         1.010227          1   \n",
       "1  80384c9ekb6bb79             7     1623.974303         1.469017          2   \n",
       "2  e5958hh9idicb85             7     1316.771308         2.666632          1   \n",
       "3  hdj5866d16ad896             7     1277.894274         1.457489          5   \n",
       "4  1007dijkaeee7gf             7     1192.082397         1.650405          5   \n",
       "\n",
       "     mean_time    seq         transformed_user_id  \n",
       "0  1439.866081  0.000  khid1763037761149968363369  \n",
       "1  1439.866081  1.000    cekbbb646174306428403041  \n",
       "2  1439.866081  0.500      ehhidicb35509502230225  \n",
       "3  1439.866081  0.750    hdjdad344119382672674816  \n",
       "4  1439.866081  0.625         dijkaeeegf101545929  "
      ]
     },
     "execution_count": 11,
     "metadata": {},
     "output_type": "execute_result"
    }
   ],
   "source": [
    "df.head()"
   ]
  },
  {
   "cell_type": "markdown",
   "metadata": {
    "id": "obyPUOsBM_So"
   },
   "source": [
    "Вычисли моду, медиану, среднее, дисперсию и стандартное отклонение для столбцов\n",
    "`click2delivery`, `order_items_sum` и `retention`. Построй гистограммы распределения значений в столбцах."
   ]
  },
  {
   "cell_type": "code",
   "execution_count": 12,
   "metadata": {
    "id": "6kgLDPs2JDX6"
   },
   "outputs": [],
   "source": [
    "rounded_df = df.copy()\n",
    "rounded_df[['click2delivery', 'order_items_sum', 'retention']] = rounded_df[['click2delivery', 'order_items_sum', 'retention']].astype(int)"
   ]
  },
  {
   "cell_type": "code",
   "execution_count": 13,
   "metadata": {
    "colab": {
     "base_uri": "https://localhost:8080/",
     "height": 226
    },
    "id": "OzUx_J-VJhDo",
    "outputId": "87209716-3470-4679-be37-f8aea4dc7ac8"
   },
   "outputs": [
    {
     "data": {
      "text/html": [
       "<div>\n",
       "<style scoped>\n",
       "    .dataframe tbody tr th:only-of-type {\n",
       "        vertical-align: middle;\n",
       "    }\n",
       "\n",
       "    .dataframe tbody tr th {\n",
       "        vertical-align: top;\n",
       "    }\n",
       "\n",
       "    .dataframe thead th {\n",
       "        text-align: right;\n",
       "    }\n",
       "</style>\n",
       "<table border=\"1\" class=\"dataframe\">\n",
       "  <thead>\n",
       "    <tr style=\"text-align: right;\">\n",
       "      <th></th>\n",
       "      <th>user_id</th>\n",
       "      <th>order_number</th>\n",
       "      <th>click2delivery</th>\n",
       "      <th>order_items_sum</th>\n",
       "      <th>retention</th>\n",
       "      <th>mean_time</th>\n",
       "      <th>seq</th>\n",
       "      <th>transformed_user_id</th>\n",
       "    </tr>\n",
       "  </thead>\n",
       "  <tbody>\n",
       "    <tr>\n",
       "      <th>0</th>\n",
       "      <td>k4198854h3id213</td>\n",
       "      <td>7</td>\n",
       "      <td>1198</td>\n",
       "      <td>1</td>\n",
       "      <td>1</td>\n",
       "      <td>1439.866081</td>\n",
       "      <td>0.000</td>\n",
       "      <td>khid1763037761149968363369</td>\n",
       "    </tr>\n",
       "    <tr>\n",
       "      <th>1</th>\n",
       "      <td>80384c9ekb6bb79</td>\n",
       "      <td>7</td>\n",
       "      <td>1623</td>\n",
       "      <td>1</td>\n",
       "      <td>2</td>\n",
       "      <td>1439.866081</td>\n",
       "      <td>1.000</td>\n",
       "      <td>cekbbb646174306428403041</td>\n",
       "    </tr>\n",
       "    <tr>\n",
       "      <th>2</th>\n",
       "      <td>e5958hh9idicb85</td>\n",
       "      <td>7</td>\n",
       "      <td>1316</td>\n",
       "      <td>2</td>\n",
       "      <td>1</td>\n",
       "      <td>1439.866081</td>\n",
       "      <td>0.500</td>\n",
       "      <td>ehhidicb35509502230225</td>\n",
       "    </tr>\n",
       "    <tr>\n",
       "      <th>3</th>\n",
       "      <td>hdj5866d16ad896</td>\n",
       "      <td>7</td>\n",
       "      <td>1277</td>\n",
       "      <td>1</td>\n",
       "      <td>5</td>\n",
       "      <td>1439.866081</td>\n",
       "      <td>0.750</td>\n",
       "      <td>hdjdad344119382672674816</td>\n",
       "    </tr>\n",
       "    <tr>\n",
       "      <th>4</th>\n",
       "      <td>1007dijkaeee7gf</td>\n",
       "      <td>7</td>\n",
       "      <td>1192</td>\n",
       "      <td>1</td>\n",
       "      <td>5</td>\n",
       "      <td>1439.866081</td>\n",
       "      <td>0.625</td>\n",
       "      <td>dijkaeeegf101545929</td>\n",
       "    </tr>\n",
       "  </tbody>\n",
       "</table>\n",
       "</div>"
      ],
      "text/plain": [
       "           user_id  order_number  click2delivery  order_items_sum  retention  \\\n",
       "0  k4198854h3id213             7            1198                1          1   \n",
       "1  80384c9ekb6bb79             7            1623                1          2   \n",
       "2  e5958hh9idicb85             7            1316                2          1   \n",
       "3  hdj5866d16ad896             7            1277                1          5   \n",
       "4  1007dijkaeee7gf             7            1192                1          5   \n",
       "\n",
       "     mean_time    seq         transformed_user_id  \n",
       "0  1439.866081  0.000  khid1763037761149968363369  \n",
       "1  1439.866081  1.000    cekbbb646174306428403041  \n",
       "2  1439.866081  0.500      ehhidicb35509502230225  \n",
       "3  1439.866081  0.750    hdjdad344119382672674816  \n",
       "4  1439.866081  0.625         dijkaeeegf101545929  "
      ]
     },
     "execution_count": 13,
     "metadata": {},
     "output_type": "execute_result"
    }
   ],
   "source": [
    "rounded_df.head()"
   ]
  },
  {
   "cell_type": "code",
   "execution_count": 14,
   "metadata": {
    "colab": {
     "base_uri": "https://localhost:8080/",
     "height": 174
    },
    "id": "6mN_uIMLP2U2",
    "outputId": "c0f28110-4ba8-4b97-ad53-7b7310a1cbe5"
   },
   "outputs": [
    {
     "data": {
      "text/html": [
       "<div>\n",
       "<style scoped>\n",
       "    .dataframe tbody tr th:only-of-type {\n",
       "        vertical-align: middle;\n",
       "    }\n",
       "\n",
       "    .dataframe tbody tr th {\n",
       "        vertical-align: top;\n",
       "    }\n",
       "\n",
       "    .dataframe thead th {\n",
       "        text-align: right;\n",
       "    }\n",
       "</style>\n",
       "<table border=\"1\" class=\"dataframe\">\n",
       "  <thead>\n",
       "    <tr style=\"text-align: right;\">\n",
       "      <th></th>\n",
       "      <th>click2delivery</th>\n",
       "      <th>order_items_sum</th>\n",
       "      <th>retention</th>\n",
       "    </tr>\n",
       "  </thead>\n",
       "  <tbody>\n",
       "    <tr>\n",
       "      <th>mean</th>\n",
       "      <td>1441.003580</td>\n",
       "      <td>1.997569</td>\n",
       "      <td>2.294100</td>\n",
       "    </tr>\n",
       "    <tr>\n",
       "      <th>50%</th>\n",
       "      <td>1440.085797</td>\n",
       "      <td>1.698760</td>\n",
       "      <td>2.000000</td>\n",
       "    </tr>\n",
       "    <tr>\n",
       "      <th>std</th>\n",
       "      <td>201.296013</td>\n",
       "      <td>0.997145</td>\n",
       "      <td>1.231973</td>\n",
       "    </tr>\n",
       "    <tr>\n",
       "      <th>mode</th>\n",
       "      <td>1446.000000</td>\n",
       "      <td>1.000000</td>\n",
       "      <td>1.000000</td>\n",
       "    </tr>\n",
       "  </tbody>\n",
       "</table>\n",
       "</div>"
      ],
      "text/plain": [
       "      click2delivery  order_items_sum  retention\n",
       "mean     1441.003580         1.997569   2.294100\n",
       "50%      1440.085797         1.698760   2.000000\n",
       "std       201.296013         0.997145   1.231973\n",
       "mode     1446.000000         1.000000   1.000000"
      ]
     },
     "execution_count": 14,
     "metadata": {},
     "output_type": "execute_result"
    }
   ],
   "source": [
    "modes = (rounded_df[['click2delivery', 'order_items_sum', 'retention']].mode().head(1).set_index(pd.Index(['mode'])))\n",
    "\n",
    "describe_df = (df[['click2delivery', 'order_items_sum', 'retention']].describe().loc[['mean', '50%', 'std']])\n",
    "\n",
    "pd.concat([describe_df, modes])"
   ]
  },
  {
   "cell_type": "code",
   "execution_count": 15,
   "metadata": {
    "id": "nQpVRb6TKauK"
   },
   "outputs": [],
   "source": [
    "import seaborn as sns"
   ]
  },
  {
   "cell_type": "code",
   "execution_count": 16,
   "metadata": {
    "colab": {
     "base_uri": "https://localhost:8080/",
     "height": 430
    },
    "id": "PuSBOGLRK17h",
    "outputId": "59d8789c-0509-403a-b4dc-3fe486804de5"
   },
   "outputs": [
    {
     "data": {
      "image/png": "[encoded data removed]",
      "text/plain": [
       "<Figure size 640x480 with 1 Axes>"
      ]
     },
     "metadata": {},
     "output_type": "display_data"
    }
   ],
   "source": [
    "sns.violinplot(df['click2delivery']);"
   ]
  },
  {
   "cell_type": "code",
   "execution_count": 17,
   "metadata": {
    "colab": {
     "base_uri": "https://localhost:8080/",
     "height": 449
    },
    "id": "G5ncPRcHKdsB",
    "outputId": "368aab9a-401d-45d7-8fc3-13202a29d635"
   },
   "outputs": [
    {
     "data": {
      "image/png": "[encoded data removed]",
      "text/plain": [
       "<Figure size 640x480 with 1 Axes>"
      ]
     },
     "metadata": {},
     "output_type": "display_data"
    }
   ],
   "source": [
    "sns.histplot(df['click2delivery']);"
   ]
  },
  {
   "cell_type": "code",
   "execution_count": 18,
   "metadata": {
    "colab": {
     "base_uri": "https://localhost:8080/",
     "height": 450
    },
    "id": "Y7zwQ56JKduV",
    "outputId": "97d2a1a5-e6bc-4cca-85cd-9c8b97115028"
   },
   "outputs": [
    {
     "data": {
      "image/png": "[encoded data removed]",
      "text/plain": [
       "<Figure size 640x480 with 1 Axes>"
      ]
     },
     "metadata": {},
     "output_type": "display_data"
    }
   ],
   "source": [
    "sns.histplot(df['order_items_sum']);"
   ]
  },
  {
   "cell_type": "code",
   "execution_count": 19,
   "metadata": {
    "colab": {
     "base_uri": "https://localhost:8080/",
     "height": 449
    },
    "id": "LtLA9iZjKvch",
    "outputId": "470dd3c6-42fe-4e69-985e-9d30c09096c4"
   },
   "outputs": [
    {
     "data": {
      "image/png": "[encoded data removed]",
      "text/plain": [
       "<Figure size 640x480 with 1 Axes>"
      ]
     },
     "metadata": {},
     "output_type": "display_data"
    }
   ],
   "source": [
    "sns.histplot(df['retention']);"
   ]
  },
  {
   "cell_type": "code",
   "execution_count": 20,
   "metadata": {
    "colab": {
     "base_uri": "https://localhost:8080/",
     "height": 775
    },
    "id": "Cj2VYxjEKdwt",
    "outputId": "8b313d13-15da-4735-832c-1176027eb4e6"
   },
   "outputs": [
    {
     "data": {
      "text/plain": [
       "<seaborn.axisgrid.PairGrid at 0x27bd1dae2d0>"
      ]
     },
     "execution_count": 20,
     "metadata": {},
     "output_type": "execute_result"
    },
    {
     "data": {
      "image/png": "[encoded data removed]",
      "text/plain": [
       "<Figure size 750x750 with 9 Axes>"
      ]
     },
     "metadata": {},
     "output_type": "display_data"
    }
   ],
   "source": [
    "sns.pairplot(df[['click2delivery', 'order_items_sum', 'retention']], corner=True)"
   ]
  }
 ],
 "metadata": {
  "colab": {
   "provenance": []
  },
  "kernelspec": {
   "display_name": "Python 3 (ipykernel)",
   "language": "python",
   "name": "python3"
  },
  "language_info": {
   "codemirror_mode": {
    "name": "ipython",
    "version": 3
   },
   "file_extension": ".py",
   "mimetype": "text/x-python",
   "name": "python",
   "nbconvert_exporter": "python",
   "pygments_lexer": "ipython3",
   "version": "3.11.4"
  }
 },
 "nbformat": 4,
 "nbformat_minor": 1
}
